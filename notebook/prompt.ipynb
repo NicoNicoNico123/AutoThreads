{
 "cells": [
  {
   "cell_type": "code",
   "execution_count": 1,
   "metadata": {},
   "outputs": [
    {
     "data": {
      "text/plain": [
       "\"A mesmerizing woman lounges gracefully atop a sumptuous satin bed, her sun-kissed skin glowing softly in the ambient light. With long, flowing hair cascading over one shoulder, she wears a sheer lace bralette and high-waisted panties, showcasing her alluring curves. Her body is elegantly contorted, one leg bent and accentuating her shapely form, while her enticing gaze meets the viewer's with an inviting smirk. The gentle flicker of candlelight dances across the room, casting delicate shadows that enhance her beauty, creating an intimate atmosphere ripe with seduction, charm, and irresistible allure.\""
      ]
     },
     "execution_count": 1,
     "metadata": {},
     "output_type": "execute_result"
    }
   ],
   "source": [
    "from threads.chain import ChainPrompt\n",
    "\n",
    "response = ChainPrompt().flux_prompt()\n",
    "response\n"
   ]
  },
  {
   "cell_type": "code",
   "execution_count": null,
   "metadata": {},
   "outputs": [],
   "source": []
  }
 ],
 "metadata": {
  "kernelspec": {
   "display_name": "automate-threads-fc4JrZUW-py3.12",
   "language": "python",
   "name": "python3"
  },
  "language_info": {
   "codemirror_mode": {
    "name": "ipython",
    "version": 3
   },
   "file_extension": ".py",
   "mimetype": "text/x-python",
   "name": "python",
   "nbconvert_exporter": "python",
   "pygments_lexer": "ipython3",
   "version": "3.12.8"
  }
 },
 "nbformat": 4,
 "nbformat_minor": 2
}
